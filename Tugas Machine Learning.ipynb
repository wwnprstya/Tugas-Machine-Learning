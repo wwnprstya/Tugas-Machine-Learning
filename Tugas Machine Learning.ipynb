{
 "cells": [
  {
   "cell_type": "markdown",
   "id": "d8cafabb-a26d-42f5-85f3-14bac7d0a196",
   "metadata": {},
   "source": [
    "SOAL 1"
   ]
  },
  {
   "cell_type": "markdown",
   "id": "a1fa2c4b-b271-4f0c-9ca6-07d8d25921c2",
   "metadata": {},
   "source": [
    "Buatlah identitas diri menggunakan pemograman python sederhana"
   ]
  },
  {
   "cell_type": "code",
   "execution_count": 13,
   "id": "a3809e82-af78-4b7a-a51d-1438067df688",
   "metadata": {},
   "outputs": [
    {
     "name": "stdout",
     "output_type": "stream",
     "text": [
      "DATA DIRI\n",
      "Nama :  Wawan Iendy Prastya\n",
      "NIM  :  20220801403\n",
      "Perkuliahan:  Machine Learning\n"
     ]
    }
   ],
   "source": [
    "#jawaban soal 1\n",
    "nama = \"Wawan Iendy Prastya\"\n",
    "kode_mahasiswa = \"20220801403\"\n",
    "mata_kuliah = \"Machine Learning\"\n",
    "\n",
    "print(\"DATA DIRI\")\n",
    "print(\"Nama : \", nama)\n",
    "print(\"NIM  : \", kode_mahasiswa)\n",
    "print(\"Perkuliahan: \", mata_kuliah)"
   ]
  },
  {
   "cell_type": "markdown",
   "id": "9b000878-6095-4a16-abad-21522bb2e1ff",
   "metadata": {},
   "source": [
    "SOAL 2"
   ]
  },
  {
   "cell_type": "markdown",
   "id": "9351c059-3d61-4507-a09e-7df4a03c2db9",
   "metadata": {},
   "source": [
    "Buatlah matriksC dengan orde 2x3, dan nilai yang diberikan pada matriksC adalah sebagai berikut:\n",
    "Baris 1 Kolom 1, nilai = 1\n",
    "Baris 1 Kolom 2, nilai = 2\n",
    "Baris 1 Kolom 3, nilai = 3\n",
    "Baris 2 Kolom 1, nilai = 4\n",
    "Baris 2 Kolom 2, nilai = 5\n",
    "Baris 2 Kolom 3, nilai = 6"
   ]
  },
  {
   "cell_type": "code",
   "execution_count": 14,
   "id": "6305cec3-e331-4579-ba77-2884de2e1812",
   "metadata": {},
   "outputs": [
    {
     "name": "stdout",
     "output_type": "stream",
     "text": [
      "[[1, 2, 3], [4, 5, 6]]\n"
     ]
    }
   ],
   "source": [
    "#jawaban soal2\n",
    "matriksC= [[1,2,3],[4,5,6]]\n",
    "print(matriksC)"
   ]
  },
  {
   "cell_type": "markdown",
   "id": "31247050-557c-45e8-b80e-8840719c1cb9",
   "metadata": {},
   "source": [
    "SOAL 3"
   ]
  },
  {
   "cell_type": "markdown",
   "id": "95a86945-1697-4f76-aafc-2bfaaba31d41",
   "metadata": {},
   "source": [
    "Buatlah matriks dengan orde 3x2, dengan nilai adalah:\n",
    "\n",
    "Baris 1 Kolom 1, nilai = 2\n",
    "Baris 1 Kolom 2, nilai = 2\n",
    "Baris 2 Kolom 1, nilai = 2\n",
    "Baris 2 Kolom 2, nilai = 2\n",
    "Baris 3 Kolom 1, nilai = 2\n",
    "Baris 3 Kolom 2, nilai = 2"
   ]
  },
  {
   "cell_type": "code",
   "execution_count": 15,
   "id": "1c3ddb61-4c79-4122-aa00-8932c8e7cd13",
   "metadata": {},
   "outputs": [
    {
     "name": "stdout",
     "output_type": "stream",
     "text": [
      "[[2, 2], [2, 2], [2, 2]]\n"
     ]
    }
   ],
   "source": [
    "#jawaban soal 3\n",
    "matriks = [[2,2],[2,2],[2,2]]\n",
    "print(matriks)"
   ]
  },
  {
   "cell_type": "markdown",
   "id": "2d946522-7f5e-4b12-bd7d-9c9c61457a30",
   "metadata": {},
   "source": [
    "SOAL 4"
   ]
  },
  {
   "cell_type": "markdown",
   "id": "ab99c1fd-c600-456b-9b15-70839d83d9b9",
   "metadata": {},
   "source": [
    "Importlah library Numpy"
   ]
  },
  {
   "cell_type": "code",
   "execution_count": 20,
   "id": "976347ad-673e-4f1e-b19e-51f1fa1eb2bd",
   "metadata": {},
   "outputs": [],
   "source": [
    "import numpy as np"
   ]
  },
  {
   "cell_type": "markdown",
   "id": "c0640f4e-0735-44ff-98b2-6986e5243aae",
   "metadata": {},
   "source": [
    "SOAL 5"
   ]
  },
  {
   "cell_type": "markdown",
   "id": "c0911bba-eaa0-48f3-9a62-c1399d268e21",
   "metadata": {},
   "source": [
    "Dengan memanfaatkan library numpy Buatlah matriks dengan menggunakan Library Numpy dengan panjang elemen adalah 32 dan matriks memiliki orde 4x8"
   ]
  },
  {
   "cell_type": "code",
   "execution_count": 17,
   "id": "75b63b47-5827-4530-9f43-d039a03a3b95",
   "metadata": {},
   "outputs": [
    {
     "name": "stdout",
     "output_type": "stream",
     "text": [
      "[[ 0  1  2  3  4  5  6  7]\n",
      " [ 8  9 10 11 12 13 14 15]\n",
      " [16 17 18 19 20 21 22 23]\n",
      " [24 25 26 27 28 29 30 31]]\n"
     ]
    }
   ],
   "source": [
    "#jawaban 5\n",
    "from numpy import *\n",
    "matriks = range(32)\n",
    "matriks = reshape(matriks, (4,8))\n",
    "print(matriks)"
   ]
  },
  {
   "cell_type": "markdown",
   "id": "e6097c01-2853-4b2d-8ee0-2feca8b93c9e",
   "metadata": {},
   "source": [
    "SOAL 6"
   ]
  },
  {
   "cell_type": "markdown",
   "id": "fa4a9466-e25f-4dd5-aa38-15ee31a7f851",
   "metadata": {},
   "source": [
    "Buatlah matriks dengan menggunakan Library Numpy dengan orde 3x30, dan nilai elemen dimulai dari indeks 1 sampai dengan 5 secara random."
   ]
  },
  {
   "cell_type": "code",
   "execution_count": 18,
   "id": "26b53fde-9081-453f-8094-6ec62d46de9c",
   "metadata": {},
   "outputs": [
    {
     "name": "stdout",
     "output_type": "stream",
     "text": [
      "[[2 4 2 3 2 4 3 4 4 3 3 3 4 4 4 3 2 4 3 1 3 1 3 1 3 2 3 4 1 2]\n",
      " [1 4 3 2 2 3 2 4 4 4 1 2 2 1 2 1 3 4 1 4 1 3 3 4 1 1 1 4 2 3]\n",
      " [2 2 4 3 4 1 4 4 3 4 2 1 3 4 3 2 3 2 4 1 2 3 3 2 3 4 1 2 4 3]]\n"
     ]
    }
   ],
   "source": [
    "#jawaban 6\n",
    "import numpy as np\n",
    "from numpy import *\n",
    "\n",
    "matriks = np.random.randint(1,5,(3,30))\n",
    "print(matriks)"
   ]
  }
 ],
 "metadata": {
  "kernelspec": {
   "display_name": "Python 3 (ipykernel)",
   "language": "python",
   "name": "python3"
  },
  "language_info": {
   "codemirror_mode": {
    "name": "ipython",
    "version": 3
   },
   "file_extension": ".py",
   "mimetype": "text/x-python",
   "name": "python",
   "nbconvert_exporter": "python",
   "pygments_lexer": "ipython3",
   "version": "3.12.3"
  }
 },
 "nbformat": 4,
 "nbformat_minor": 5
}
